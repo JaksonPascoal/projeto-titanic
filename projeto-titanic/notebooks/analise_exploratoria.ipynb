{
 "cells": [
  {
   "cell_type": "markdown",
   "id": "d6bbf8f4",
   "metadata": {},
   "source": [
    "Perguntas\n",
    "\n",
    "1- O que a classe social (representada por Pclass) diz sobre as prioridades e o valor de uma vida humana naquela época?\n",
    "\n",
    "2- A idade e o gênero determinavam o direito à vida? Qual a relação entre a lógica dos dados e a ética do \"mulheres e crianças primeiro\"?\n",
    "\n",
    "3- O que os dados faltantes (missing values) nos dizem sobre o que não sabemos? Isso pode representar a incerteza e o caos de um evento como o naufrágio.\n",
    "\n",
    "4- O conhecimento sobre o passado (os dados dos passageiros) pode prever o futuro (a sobrevivência ou não de um novo passageiro)?\n",
    "\n",
    "5- Após a criação do modelo ML, ele é bom em prever quem sobreviveu, ou ele é bom em prever quem não sobreviveu? Ou ele é bom nos dois? O que os erros do modelo ensina sobre a incerteza da previsão?\n",
    "\n",
    "6- Existem outras formas de \"aprender\" os padrões dos dados? Um modelo mais complexo (e menos intuitivo) pode oferecer uma previsão mais precisa?\n",
    "\n",
    "7- Qual a verdadeira \"precisão\" do modelo? Ele é confiável em prever a vida e a morte?\n",
    "\n",
    "8- A previsão é uma coincidência do destino, ou é uma verdade estatística consistente?\n",
    "\n",
    "9- Como a união de informações pode criar um novo conhecimento que era invisível antes?\n",
    "\n",
    "10- O novo conhecimento, através das mudanças na questão anterior, melhora a capacidade de prever o futuro?\n",
    "\n"
   ]
  },
  {
   "cell_type": "code",
   "execution_count": null,
   "id": "2bbf46ed",
   "metadata": {},
   "outputs": [],
   "source": [
    "import pandas as pd\n",
    "import numpy as np\n",
    "\n",
    "# path do dataset a ser analisado\n",
    "df = pd.read_csv('../data/Titanic-Dataset.csv')\n",
    "\n",
    "# Exibir as cinco primeiras linhas\n",
    "df.head()"
   ]
  },
  {
   "cell_type": "markdown",
   "id": "cf854abe",
   "metadata": {},
   "source": [
    "- Entendimento e Preparação dos dados"
   ]
  },
  {
   "cell_type": "code",
   "execution_count": null,
   "id": "1fb1cf28",
   "metadata": {},
   "outputs": [],
   "source": [
    "# criacao de coluna \"Title\"\n",
    "import re\n",
    "\n",
    "# Cria uma nova coluna 'Title' extraindo o título do nome\n",
    "df['Title'] = df['Name'].apply(\n",
    "    lambda x: re.search('([A-Za-z]+)\\.', x).group(1)\n",
    ")\n",
    "df.head()"
   ]
  },
  {
   "cell_type": "code",
   "execution_count": null,
   "id": "40e944d9",
   "metadata": {},
   "outputs": [],
   "source": [
    "# Verificar frequencia dos titulos\n",
    "title_counts = df['Title'].value_counts()\n",
    "print(title_counts)"
   ]
  },
  {
   "cell_type": "code",
   "execution_count": null,
   "id": "4181e993",
   "metadata": {},
   "outputs": [],
   "source": [
    "# Agrupar os títulos raros em uma única categoria \"Rare\" para simplificar as analises\n",
    "\n",
    "titulos_raros = [\n",
    "    'Dr', 'Rev', 'Mlle', 'Major', 'Col', 'Countess', 'Capt',\n",
    "    'Ms', 'Sir', 'Lady', 'Mme', 'Don', 'Jonkheer'\n",
    "]\n",
    "\n",
    "# Criar dicionário para o mapeamento\n",
    "mapeamento_titulos = {titulo: 'Rare' for titulo in titulos_raros}\n",
    "mapeamento_titulos['Mlle'] = 'Miss'\n",
    "mapeamento_titulos['Ms'] = 'Miss'\n",
    "mapeamento_titulos['Mme'] = 'Mrs'\n",
    "\n",
    "# Aplica o mapeamento\n",
    "df['Title'] = df['Title'].replace(mapeamento_titulos)\n",
    "\n",
    "print(df['Title'].value_counts())"
   ]
  },
  {
   "cell_type": "code",
   "execution_count": null,
   "id": "17310a7d",
   "metadata": {},
   "outputs": [],
   "source": [
    "# Valores ausentes por coluna\n",
    "valores_ausentes = df.isnull().sum()\n",
    "\n",
    "# Calcular a porcentagem de valores ausentes\n",
    "porcentagem_ausentes = (valores_ausentes / len(df)) * 100\n",
    "\n",
    "# Criar DataFrame para visualizar a contagem e a porcentagem\n",
    "df_valores_ausentes = pd.DataFrame({\n",
    "    'Contagem': valores_ausentes,\n",
    "    'Porcentagem': porcentagem_ausentes\n",
    "})\n",
    "\n",
    "# Filtrar apenas as colunas com valores ausentes e ordenamos\n",
    "print(df_valores_ausentes[df_valores_ausentes['Contagem'] > 0].sort_values(by='Porcentagem', ascending=False))"
   ]
  },
  {
   "cell_type": "markdown",
   "id": "a3e417c0",
   "metadata": {},
   "source": [
    "- Analise dos dados acima: \n",
    "\n",
    "- Cabin: : Quase 80% dos dados estão faltando, inferir sobre estas informações é inviavel. Então melhor descartar esta coluna.\n",
    "- Age:: A idade é uma variavel crucial, 20% faltante é uma quantidade consideravel.\n",
    "- Embarked: Menos de 1% de dados ausentes, dois valores estão faltando. Posso preencher com o valor mais frequente tranquilamente."
   ]
  },
  {
   "cell_type": "code",
   "execution_count": null,
   "id": "9b03241d",
   "metadata": {},
   "outputs": [],
   "source": [
    "# Preencher idades faltantes\n",
    "\n",
    "df['Age'] = df['Age'].fillna(\n",
    "    df.groupby('Title')['Age'].transform('median')\n",
    ")\n",
    "print(df['Age'].isnull().sum())"
   ]
  },
  {
   "cell_type": "code",
   "execution_count": null,
   "id": "41feeb8e",
   "metadata": {},
   "outputs": [],
   "source": [
    "# Preencher o Porto de Embarque\n",
    "\n",
    "porto_mais_comum = df['Embarked'].mode()[0]\n",
    "\n",
    "df['Embarked'] = df['Embarked'].fillna(porto_mais_comum)\n",
    "\n",
    "print(df['Embarked'].isnull().sum())"
   ]
  },
  {
   "cell_type": "markdown",
   "id": "2c0a7074",
   "metadata": {},
   "source": [
    " 1- Respondendo a primeira pergunta:\n",
    "\n",
    " O que a classe social (representada por Pclass) diz sobre as prioridades e o valor de uma vida humana naquela época?"
   ]
  },
  {
   "cell_type": "code",
   "execution_count": null,
   "id": "e41fef7d",
   "metadata": {},
   "outputs": [],
   "source": [
    "# Cria uma tabela cruzada para ver a contagem de sobreviventes por classe\n",
    "tabela_pclass = pd.crosstab(df['Pclass'], df['Survived'])\n",
    "\n",
    "# Adiciona os totais para cada linha e coluna\n",
    "tabela_pclass['Total'] = tabela_pclass.sum(axis=1)\n",
    "\n",
    "# Calcula a porcentagem de sobreviventes por classe\n",
    "tabela_pclass['Sobrevivência %'] = round((tabela_pclass[1] / tabela_pclass['Total']) * 100, 2)\n",
    "\n",
    "# Altera os nomes das colunas para melhor compreensão\n",
    "tabela_pclass = tabela_pclass.rename(columns={0: 'Não Sobreviveu', 1: 'Sobreviveu'})\n",
    "\n",
    "print(tabela_pclass)"
   ]
  },
  {
   "cell_type": "markdown",
   "id": "ba859a82",
   "metadata": {},
   "source": [
    "Análise dos Dados:\n",
    "\n",
    "A tabela mostra uma correlação inegável entre classe social e sobrevivência.\n",
    "\n",
    "1ª Classe: 62.96% de sobrevivência.\n",
    "\n",
    "2ª Classe: 47.28% de sobrevivência.\n",
    "\n",
    "3ª Classe: Apenas 24.24% de sobrevivência."
   ]
  },
  {
   "cell_type": "markdown",
   "id": "c3a4182b",
   "metadata": {},
   "source": [
    "Reflexão Filosófica:\n",
    "\n",
    "Os dados revelam uma hierarquia de valor de vida. O acesso a uma cabine na 1ª classe não era apenas uma questão de conforto; era, literalmente, a diferença entre a vida e a morte. O acesso aos botes salva-vidas, a prioridade no resgate e até a localização das cabines (mais altas no navio) estavam todos correlacionados com a classe social.\n",
    "\n",
    "O naufrágio do Titanic, que deveria ser um evento de destino cego, foi, na verdade, um reflexo brutal das desigualdades sociais. Os dados, frios e objetivos, confirmam que o valor de uma vida era, em grande parte, determinado pelo status social."
   ]
  },
  {
   "cell_type": "markdown",
   "id": "554f9f41",
   "metadata": {},
   "source": [
    "2- Respondendo a segunda Pergunta:\n",
    "\n",
    "A idade e o gênero determinavam o direito à vida? Qual a relação entre a lógica dos dados e a ética do \"mulheres e crianças primeiro\"?"
   ]
  },
  {
   "cell_type": "code",
   "execution_count": null,
   "id": "f5c0394b",
   "metadata": {},
   "outputs": [],
   "source": [
    "# Cria uma tabela cruzada para ver a contagem de sobreviventes por sexo\n",
    "tabela_sexo = pd.crosstab(df['Sex'], df['Survived'])\n",
    "\n",
    "# Adiciona os totais para cada linha e coluna\n",
    "tabela_sexo['Total'] = tabela_sexo.sum(axis=1)\n",
    "\n",
    "# Calcula a porcentagem de sobreviventes por sexo\n",
    "tabela_sexo['Sobrevivência %'] = round((tabela_sexo[1] / tabela_sexo['Total']) * 100, 2)\n",
    "\n",
    "# Altera os nomes das colunas para melhor compreensão\n",
    "tabela_sexo = tabela_sexo.rename(columns={0: 'Não Sobreviveu', 1: 'Sobreviveu'})\n",
    "\n",
    "print(tabela_sexo)"
   ]
  },
  {
   "cell_type": "markdown",
   "id": "59dbb925",
   "metadata": {},
   "source": [
    "Análise dos Dados:\n",
    "\n",
    "Mulheres: 74.2% de sobrevivência.\n",
    "\n",
    "Homens: Apenas 18.89% de sobrevivência."
   ]
  },
  {
   "cell_type": "markdown",
   "id": "5ae68a8c",
   "metadata": {},
   "source": [
    "Reflexão Filosófica:\n",
    "\n",
    "O dado é brutalmente direto: o gênero era um fator muito mais decisivo para a sobrevivência do que a classe social. A ordem de \"mulheres e crianças primeiro\" não foi apenas um ideal ético, mas uma política de resgate que se manifestou de forma inegável nos dados."
   ]
  },
  {
   "cell_type": "code",
   "execution_count": null,
   "id": "652f461e",
   "metadata": {},
   "outputs": [],
   "source": [
    "# Cria um DataFrame apenas com passageiros do sexo masculino, fazendo uma cópia\n",
    "homens_df = df[df['Sex'] == 'male'].copy()"
   ]
  },
  {
   "cell_type": "code",
   "execution_count": null,
   "id": "f341dc47",
   "metadata": {},
   "outputs": [],
   "source": [
    "# Cria um DataFrame apenas com passageiros do sexo masculino\n",
    "homens_df = df[df['Sex'] == 'male']\n",
    "\n",
    "# Categoriza os homens em crianças (até 16 anos) e adultos\n",
    "homens_df['Categoria'] = homens_df['Age'].apply(\n",
    "    lambda age: 'Crianca' if age <= 16 else 'Adulto'\n",
    ")\n",
    "\n",
    "# Cria uma tabela cruzada para ver a sobrevivência de homens (crianças vs. adultos)\n",
    "tabela_criancas_adultos = pd.crosstab(homens_df['Categoria'], homens_df['Survived'])\n",
    "\n",
    "# Adiciona a porcentagem de sobrevivência\n",
    "tabela_criancas_adultos['Sobrevivência %'] = round((tabela_criancas_adultos[1] / tabela_criancas_adultos.sum(axis=1)) * 100, 2)\n",
    "\n",
    "# Altera os nomes das colunas\n",
    "tabela_criancas_adultos = tabela_criancas_adultos.rename(columns={0: 'Não Sobreviveu', 1: 'Sobreviveu'})\n",
    "\n",
    "print(tabela_criancas_adultos)"
   ]
  },
  {
   "cell_type": "markdown",
   "id": "92fb045a",
   "metadata": {},
   "source": [
    "Análise dos Dados:\n",
    "\n",
    "Homens Adultos: Apenas 16.28% de sobrevivência.\n",
    "\n",
    "Meninos (Criança): 43.64% de sobrevivência."
   ]
  },
  {
   "cell_type": "markdown",
   "id": "0b1aa484",
   "metadata": {},
   "source": [
    "Reflexão Filosófica:\n",
    "\n",
    "Os números falam por si. A política de \"mulheres e crianças primeiro\" foi de fato aplicada. A sobrevivência dos meninos foi significativamente maior que a dos homens adultos. O que a ética prescrevia, a lógica dos dados confirmou: em uma situação de escassez (de botes salva-vidas), vidas foram priorizadas, e essa prioridade foi baseada na vulnerabilidade percebida"
   ]
  },
  {
   "cell_type": "markdown",
   "id": "1a0ccc5d",
   "metadata": {},
   "source": [
    "Em suma, a análise mostra que a idade e o gênero foram, de fato, os fatores determinantes para o direito à vida. O que parecia uma ordem ética e humanitária se revela uma regra estatística, com o valor de uma vida sendo quantificado pela sua idade e sexo."
   ]
  },
  {
   "cell_type": "markdown",
   "id": "c93cd4a5",
   "metadata": {},
   "source": [
    "3- Respondendo a Terceira Pergunta:\n",
    "\n",
    "O que os dados faltantes (missing values) nos dizem sobre o que não sabemos? Isso pode representar a incerteza e o caos de um evento como o naufrágio."
   ]
  },
  {
   "cell_type": "code",
   "execution_count": null,
   "id": "bea35763",
   "metadata": {},
   "outputs": [],
   "source": [
    "# Contar o número de valores ausentes por coluna\n",
    "valores_ausentes_finais = df.isnull().sum()\n",
    "\n",
    "# Filtrar apenas as colunas com valores ausentes\n",
    "df_valores_ausentes_finais = valores_ausentes_finais[valores_ausentes_finais > 0]\n",
    "\n",
    "# Exibir o resultado\n",
    "print(\"Valores ausentes após a limpeza:\")\n",
    "print(df_valores_ausentes_finais)\n",
    "\n",
    "if df_valores_ausentes_finais.empty:\n",
    "    print(\"\\nO seu DataFrame está 100% limpo!\")"
   ]
  },
  {
   "cell_type": "code",
   "execution_count": null,
   "id": "38e5dadf",
   "metadata": {},
   "outputs": [],
   "source": [
    "# Descarta a coluna 'Cabin'\n",
    "df = df.drop('Cabin', axis=1, errors='ignore')\n",
    "\n",
    "# Verificamos a nova contagem de valores ausentes para confirmar a remoção\n",
    "print(df.isnull().sum())"
   ]
  },
  {
   "cell_type": "markdown",
   "id": "b024d789",
   "metadata": {},
   "source": [
    "Os valores ausentes na coluna Cabin mostra a incerteza e a falta de informação, levando à decisão pragmática de descartar a coluna. Já os poucos valores ausentes em Age e Embarked puderam ser preenchidos de forma inteligente, preservando o máximo de informação"
   ]
  },
  {
   "cell_type": "markdown",
   "id": "7a48674e",
   "metadata": {},
   "source": [
    "4- Respondendo a quarta pergunta"
   ]
  },
  {
   "cell_type": "code",
   "execution_count": null,
   "id": "a7960b41",
   "metadata": {},
   "outputs": [],
   "source": [
    "from sklearn.model_selection import train_test_split\n",
    "\n",
    "# Definir a variável independente (características)\n",
    "# Usar apenas as colunas numéricas ou já tratadas\n",
    "X = df[['Pclass', 'Age', 'SibSp', 'Parch', 'Fare']]\n",
    "\n",
    "# Definir a variável dependente (o que queremos prever)\n",
    "y = df['Survived']\n",
    "\n",
    "print(\"Variáveis independentes (X) prontas.\")\n",
    "print(\"Variável dependente (y) pronta.\")"
   ]
  },
  {
   "cell_type": "code",
   "execution_count": null,
   "id": "f6f11977",
   "metadata": {},
   "outputs": [],
   "source": [
    "# Dividir os dados em conjuntos de treino e teste\n",
    "# O 'random_state' garante que a divisão seja a mesma sempre que o código for executado\n",
    "X_train, X_test, y_train, y_test = train_test_split(\n",
    "    X, y, test_size=0.2, random_state=42\n",
    ")\n",
    "\n",
    "# Exibir o tamanho dos novos conjuntos\n",
    "print(f'Tamanho do conjunto de treino (X_train): {X_train.shape[0]}')\n",
    "print(f'Tamanho do conjunto de teste (X_test): {X_test.shape[0]}')"
   ]
  },
  {
   "cell_type": "code",
   "execution_count": null,
   "id": "2814704e",
   "metadata": {},
   "outputs": [],
   "source": [
    "# Importar o modelo de Árvore de Decisão\n",
    "from sklearn.tree import DecisionTreeClassifier\n",
    "\n",
    "# Criar uma instância do modelo\n",
    "modelo_arvore = DecisionTreeClassifier(random_state=42)\n",
    "\n",
    "# Treinar o modelo usando os dados de treino\n",
    "modelo_arvore.fit(X_train, y_train)\n",
    "\n",
    "print(\"Modelo de Árvore de Decisão treinado com sucesso.\")"
   ]
  },
  {
   "cell_type": "code",
   "execution_count": null,
   "id": "9a31b4b3",
   "metadata": {},
   "outputs": [],
   "source": [
    "# Importar a função de métrica de acurácia\n",
    "from sklearn.metrics import accuracy_score\n",
    "\n",
    "# Fazer as previsões no conjunto de teste\n",
    "y_pred = modelo_arvore.predict(X_test)\n",
    "\n",
    "# Calcular a acurácia do modelo\n",
    "acuracia = accuracy_score(y_test, y_pred)\n",
    "\n",
    "# Exibir a acurácia\n",
    "print(f\"Acurácia do modelo: {acuracia:.2f}\")"
   ]
  },
  {
   "cell_type": "markdown",
   "id": "e3dfc60d",
   "metadata": {},
   "source": [
    "Resposta da quarta pergunta:\n",
    "\n",
    "Sim, uma acurácia de 70% demonstra que a lógica e os padrões extraídos dos dados históricos têm um poder preditivo. O modelo de Machine Learning, que apenas \"viu\" dados de treino, foi capaz de prever corretamente o destino de 7 em cada 10 novos passageiros.\n",
    "\n",
    "O modelo não \"sabe\" que o Titanic afundou, ou que existia uma regra de \"mulheres e crianças primeiro.\" Ele simplesmente aprendeu, a partir dos dados, que ser do sexo feminino, ser uma criança ou ter uma classe mais alta eram características com alta correlação para a sobrevivência. \n",
    "\n",
    "A lógica do modelo refletiu a realidade do evento.\n"
   ]
  },
  {
   "cell_type": "markdown",
   "id": "c89f3159",
   "metadata": {},
   "source": [
    "A acurácia é uma boa métrica de partida, mas em ciência de dados, ela não conta a história toda. Um modelo com 70% de acurácia pode ser ótimo, mas em alguns casos, pode ser enganador."
   ]
  },
  {
   "cell_type": "markdown",
   "id": "d90ce867",
   "metadata": {},
   "source": [
    "5- Respondendo a quinta Pergunta"
   ]
  },
  {
   "cell_type": "code",
   "execution_count": null,
   "id": "7a81836f",
   "metadata": {},
   "outputs": [],
   "source": [
    "# Importar a Matriz de Confusão\n",
    "from sklearn.metrics import confusion_matrix\n",
    "\n",
    "# Calcular a matriz de confusão\n",
    "matriz_confusao = confusion_matrix(y_test, y_pred)\n",
    "\n",
    "print(\"Matriz de Confusão:\")\n",
    "print(matriz_confusao)"
   ]
  },
  {
   "cell_type": "markdown",
   "id": "5139bbf6",
   "metadata": {},
   "source": [
    "Analisando cada número com uma lente filosófica e pragmática:\n",
    "\n",
    "Verdadeiros Negativos (VN = 81): O modelo previu que 81 pessoas não sobreviveriam e elas realmente não sobreviveram. São os acertos do modelo em prever o destino trágico.\n",
    "\n",
    "Falsos Positivos (FP = 24): O modelo previu que 24 pessoas sobreviveriam, mas elas não sobreviveram. Este é um tipo de erro perigoso. O modelo deu uma falsa esperança.\n",
    "\n",
    "Falsos Negativos (FN = 30): O modelo previu que 30 pessoas não sobreviveriam, mas elas realmente sobreviveram. Este é outro tipo de erro. O modelo subestimou a capacidade de sobrevivência dessas pessoas.\n",
    "\n",
    "Verdadeiros Positivos (VP = 44): O modelo previu que 44 pessoas sobreviveriam e elas realmente sobreviveram. São os acertos do modelo em prever o final feliz.\n",
    "\n",
    "A acurácia de 70% (81 + 44) / (81 + 24 + 30 + 44) = 125/179 ≈ 0.6987 foi confirmada pelos números. No entanto, a matriz de confusão dá uma visão mais detalhada: o modelo é mais preciso em prever a morte (acertou 81 de 111 casos) do que a sobrevivência (acertou 44 de 74 casos).\n",
    "\n",
    "O modelo, portanto, é bom em prever o destino trágico, mas tem mais dificuldade em prever a sobrevivência. Essa é a incerteza da previsão que queríamos explorar."
   ]
  },
  {
   "cell_type": "markdown",
   "id": "b2899446",
   "metadata": {},
   "source": [
    "6- Respondendo a sexta pergunta"
   ]
  },
  {
   "cell_type": "code",
   "execution_count": null,
   "id": "f4d6a9d7",
   "metadata": {},
   "outputs": [],
   "source": [
    "# Importar o modelo de Random Forest\n",
    "from sklearn.ensemble import RandomForestClassifier\n",
    "\n",
    "# Criar uma instância do modelo\n",
    "modelo_random_forest = RandomForestClassifier(n_estimators=100, random_state=42)\n",
    "\n",
    "# Treinar o modelo\n",
    "modelo_random_forest.fit(X_train, y_train)\n",
    "\n",
    "print(\"Modelo de Random Forest treinado com sucesso.\")"
   ]
  },
  {
   "cell_type": "code",
   "execution_count": null,
   "id": "5db80773",
   "metadata": {},
   "outputs": [],
   "source": [
    "import matplotlib.pyplot as plt\n",
    "import seaborn as sns\n",
    "\n",
    "# Calcular a matriz de confusão\n",
    "from sklearn.metrics import confusion_matrix\n",
    "y_pred_rf = modelo_random_forest.predict(X_test)\n",
    "matriz_confusao_rf = confusion_matrix(y_test, y_pred_rf)\n",
    "\n",
    "# Criar visualização\n",
    "plt.figure(figsize=(8, 6))\n",
    "sns.heatmap(matriz_confusao_rf, annot=True, fmt='d', cmap='Blues', cbar=False,\n",
    "            xticklabels=['Não Sobreviveu', 'Sobreviveu'],\n",
    "            yticklabels=['Não Sobreviveu', 'Sobreviveu'])\n",
    "\n",
    "plt.xlabel('Previsão do Modelo')\n",
    "plt.ylabel('Realidade')\n",
    "plt.title('Matriz de Confusão do Modelo Random Forest')\n",
    "plt.show()"
   ]
  },
  {
   "cell_type": "markdown",
   "id": "345d2384",
   "metadata": {},
   "source": [
    "A Filosofia do Erro Visual | A Matriz de Confusão Revela:\n",
    "\n",
    "A matriz de confusão dá uma visão detalhada sobre os acertos e erros do modelo:\n",
    "\n",
    "Verdadeiros Negativos (VN): 84. O modelo previu que 84 pessoas não sobreviveriam, e elas realmente não sobreviveram. São os acertos do modelo em prever a morte, um número maior do que os 81 acertos do nosso modelo anterior.\n",
    "\n",
    "Falsos Positivos (FP): 21. O modelo previu que 21 pessoas sobreviveriam, mas elas não sobreviveram. O modelo deu uma \"falsa esperança\" a essas pessoas, um número menor que os 24 erros do modelo anterior.\n",
    "\n",
    "Falsos Negativos (FN): 21. O modelo previu que 21 pessoas não sobreviveriam, mas elas realmente sobreviveram. O modelo subestimou a capacidade de sobrevivência dessas pessoas, um número significativamente menor que os 30 erros do modelo anterior.\n",
    "\n",
    "Verdadeiros Positivos (VP): 53. O modelo previu que 53 pessoas sobreviveriam, e elas realmente sobreviveram. Os acertos do modelo em prever a sobrevivência, um número maior que os 44 acertos do nosso modelo anterior.\n",
    "\n",
    "O Random Forest teve um desempenho visivelmente superior ao da Árvore de Decisão simples. \n",
    "\n",
    "A acurácia, que seria (84+53)/(84+21+21+53) = 137/179, é de aproximadamente 76,5%, o que é uma melhoria significativa em relação aos 70% do modelo anterior."
   ]
  },
  {
   "cell_type": "markdown",
   "id": "306b9307",
   "metadata": {},
   "source": [
    "7- Respondendo a sétima pergunta através das métricas Precisão, Recall, F1-Score e o Relatório de Classificação."
   ]
  },
  {
   "cell_type": "code",
   "execution_count": null,
   "id": "62834fb7",
   "metadata": {},
   "outputs": [],
   "source": [
    "# Importar as métricas de avaliação\n",
    "from sklearn.metrics import classification_report, roc_auc_score\n",
    "\n",
    "# Previsões no conjunto de teste com o modelo Random Forest\n",
    "y_pred_rf = modelo_random_forest.predict(X_test)\n",
    "\n",
    "# Gerar o relatório de classificação\n",
    "relatorio = classification_report(y_test, y_pred_rf)\n",
    "\n",
    "print(\"Relatório de Classificação do Random Forest:\")\n",
    "print(relatorio)"
   ]
  },
  {
   "cell_type": "markdown",
   "id": "5f4366ca",
   "metadata": {},
   "source": [
    "A Filosofia da Verdadeira Precisão: O Que as Métricas Revelam\n",
    "\n",
    "Para a pergunta : \"Qual a verdadeira 'precisão' do nosso modelo? Ele é confiável em prever a vida e a morte?\"\n",
    "\n",
    "A resposta, de acordo com o relatório, é uma nuance.\n",
    "\n",
    "Analises da tabela linha por linha, para as classes 0 (Não Sobreviveu) e 1 (Sobreviveu):\n",
    "\n",
    "Classe 0 (Não Sobreviveu):\n",
    "\n",
    "Precisão: 0.80. De todas as vezes que o modelo previu que alguém não sobreviveria, ele acertou 80% das vezes.\n",
    "\n",
    "Recall: 0.80. De todas as pessoas que realmente não sobreviveram, o modelo conseguiu identificar 80% delas.\n",
    "\n",
    "F1-Score: 0.80. Um bom equilíbrio entre precisão e recall.\n",
    "\n",
    "Classe 1 (Sobreviveu):\n",
    "\n",
    "Precisão: 0.72. De todas as vezes que o modelo previu que alguém sobreviveria, ele acertou 72% das vezes.\n",
    "\n",
    "Recall: 0.72. De todas as pessoas que realmente sobreviveram, o modelo conseguiu identificar 72% delas.\n",
    "\n",
    "F1-Score: 0.72. Também um bom equilíbrio, mas a performance é ligeiramente inferior à da classe 0.\n",
    "\n",
    "Enfim, o modelo é melhor em prever a morte (classe 0) do que a sobrevivência (classe 1)."
   ]
  },
  {
   "cell_type": "markdown",
   "id": "59de66e9",
   "metadata": {},
   "source": [
    "8- Respondendo a oitava pergunta através da Validação Cruzada (k-fold Cross-Validation),\n",
    "\n",
    "-- Vou usar o cross_val_score do scikit-learn para fazer essa avaliação"
   ]
  },
  {
   "cell_type": "code",
   "execution_count": null,
   "id": "336f9d0d",
   "metadata": {},
   "outputs": [],
   "source": [
    "# Importar a função de validação cruzada\n",
    "from sklearn.model_selection import cross_val_score\n",
    "\n",
    "# Avaliar o modelo com 5-fold cross-validation\n",
    "scores = cross_val_score(modelo_random_forest, X, y, cv=5, scoring='accuracy')\n",
    "\n",
    "print(\"Acurácia por fold (5 rodadas):\")\n",
    "print(scores)\n",
    "\n",
    "print(f\"\\nAcurácia média: {scores.mean():.2f}\")\n",
    "print(f\"Desvio padrão da acurácia: {scores.std():.2f}\")"
   ]
  },
  {
   "cell_type": "markdown",
   "id": "b3f17f0d",
   "metadata": {},
   "source": [
    "A Filosofia da Consistência: O Que a Validação Cruzada Nos Diz?\n",
    "\n",
    "Para a pergunta \"A previsão é uma coincidência do destino, ou é uma verdade estatística consistente?\"\n",
    "\n",
    "Os números refletem a resposta:\n",
    "\n",
    "Acurácia Média: 0.70\n",
    "\n",
    "Desvio Padrão: 0.02\n",
    "\n",
    "Acurácia Média de 0.70: Isso significa que, em média, o modelo de Random Forest acerta 70% das vezes. \n",
    "\n",
    "A acurácia anterior de (0.76) foi um bom resultado, mas essa média de 0.70 é uma estimativa muito mais confiável do desempenho real do modelo.\n",
    "\n",
    "Desvio Padrão de 0.02: Esse número é ainda mais importante. Um desvio padrão baixo (perto de zero) significa que a performance do modelo é consistente em diferentes subconjuntos de dados. Se o desvio padrão fosse alto, isso indicaria que a acurácia de 76% foi, em parte, sorte. \n",
    "Um desvio padrão de 0.02 dá a certeza de que a previsão é uma verdade estatística, e não uma coincidência.\n",
    "\n",
    "Em resumo, com base em dados, os padrões do passado são consistentes e podem, com um grau de confiabilidade, ser usados para prever o futuro."
   ]
  },
  {
   "cell_type": "markdown",
   "id": "f3a2d7dc",
   "metadata": {},
   "source": [
    "9- Respondendo a nona pergunta através da engenharia de features que é o coração da ciência de dados:\n",
    "\n",
    "Para responder a isso, vou criar duas novas features que combinam informações das colunas existentes:\n",
    "\n",
    "FamilySize: O tamanho da família, combinando o número de irmãos/cônjuges (SibSp) e pais/crianças (Parch), mais o próprio passageiro.\n",
    "\n",
    "IsAlone: Uma variável binária que nos diz se o passageiro estava viajando sozinho ou não.\n",
    "\n",
    "Essas duas colunas, apesar de simples, têm um grande poder preditivo, pois a chance de sobrevivência pode ser muito diferente para quem viaja em família versus quem está sozinho"
   ]
  },
  {
   "cell_type": "code",
   "execution_count": null,
   "id": "514c146d",
   "metadata": {},
   "outputs": [],
   "source": [
    "# Criar a nova coluna 'FamilySize'\n",
    "df['FamilySize'] = df['SibSp'] + df['Parch'] + 1\n",
    "\n",
    "# Exibir as primeiras linhas para verificar\n",
    "print(df[['SibSp', 'Parch', 'FamilySize']].head())"
   ]
  },
  {
   "cell_type": "code",
   "execution_count": null,
   "id": "d48598b9",
   "metadata": {},
   "outputs": [],
   "source": [
    "# Criar a nova coluna 'IsAlone'\n",
    "# O valor será 1 se FamilySize for 1 (sozinho) e 0 caso contrário\n",
    "df['IsAlone'] = (df['FamilySize'] == 1).astype(int)\n",
    "\n",
    "# Exibir as primeiras linhas para verificar\n",
    "print(df[['FamilySize', 'IsAlone']].head())"
   ]
  },
  {
   "cell_type": "markdown",
   "id": "b10c6fa4",
   "metadata": {},
   "source": [
    "10- Respondendo a décima pergunta:"
   ]
  },
  {
   "cell_type": "code",
   "execution_count": null,
   "id": "10db3fba",
   "metadata": {},
   "outputs": [],
   "source": [
    "# Definir o novo X com as features adicionais\n",
    "X_novo = df[['Pclass', 'Age', 'SibSp', 'Parch', 'Fare', 'FamilySize', 'IsAlone']]\n",
    "\n",
    "# Treinar e avaliar o modelo com 5-fold cross-validation\n",
    "scores_novo = cross_val_score(modelo_random_forest, X_novo, y, cv=5, scoring='accuracy')\n",
    "\n",
    "print(\"Acurácia por fold (5 rodadas) com as novas features:\")\n",
    "print(scores_novo)\n",
    "\n",
    "print(f\"\\nAcurácia média: {scores_novo.mean():.2f}\")\n",
    "print(f\"Desvio padrão da acurácia: {scores_novo.std():.2f}\")"
   ]
  },
  {
   "cell_type": "markdown",
   "id": "50e141e2",
   "metadata": {},
   "source": [
    "A Filosofia da União: O que a Nova Análise diz?\n",
    "\n",
    "A resposta para esta questão, de acordo com as nova atualizações do modelo, é que, neste caso, o novo conhecimento sobre a dinâmica familiar NÂO melhorou a performance geral do modelo.\n",
    "\n",
    "Anteriormente (sem FamilySize e IsAlone):\n",
    "\n",
    "Acurácia Média: 0.70\n",
    "\n",
    "Desvio Padrão: 0.02\n",
    "\n",
    "Agora (com FamilySize e IsAlone):\n",
    "\n",
    "Acurácia Média: 0.70\n",
    "\n",
    "Desvio Padrão: 0.02\n",
    "\n",
    "Os números são idênticos. Isso não significa que a intuição estava errada, mas sim que o modelo Random Forest, que é um algoritmo poderoso, já era capaz de inferir a informação sobre a dinâmica familiar a partir das colunas SibSp e Parch sozinhas. \n",
    "\n",
    "A criação de FamilySize e IsAlone não adicionou um conhecimento novo o suficiente para impactar a performance do modelo.\n",
    "\n",
    "Isso é uma lição crucial em ciência de dados: nem toda engenharia de features resulta em um ganho de performance. \n",
    "\n",
    "O modelo, neste caso, já era \"sábio\" o suficiente para inferir a informação."
   ]
  }
 ],
 "metadata": {
  "kernelspec": {
   "display_name": "Python 3",
   "language": "python",
   "name": "python3"
  },
  "language_info": {
   "codemirror_mode": {
    "name": "ipython",
    "version": 3
   },
   "file_extension": ".py",
   "mimetype": "text/x-python",
   "name": "python",
   "nbconvert_exporter": "python",
   "pygments_lexer": "ipython3",
   "version": "3.11.9"
  }
 },
 "nbformat": 4,
 "nbformat_minor": 5
}
