{
 "cells": [
  {
   "cell_type": "markdown",
   "id": "d6bbf8f4",
   "metadata": {},
   "source": [
    "Perguntas\n",
    "\n",
    "- O que a classe social (representada por Pclass) diz sobre as prioridades e o valor de uma vida humana naquela época?\n",
    "\n",
    "- A idade e o gênero determinavam o direito à vida? Qual a relação entre a lógica dos dados e a ética do \"mulheres e crianças primeiro\"?\n",
    "\n",
    "- O que os dados faltantes (missing values) nos dizem sobre o que não sabemos? Isso pode representar a incerteza e o caos de um evento como o naufrágio.\n",
    "\n"
   ]
  },
  {
   "cell_type": "code",
   "execution_count": null,
   "id": "2bbf46ed",
   "metadata": {},
   "outputs": [],
   "source": [
    "import pandas as pd\n",
    "import numpy as np\n",
    "\n",
    "# path do dataset a ser analisado\n",
    "df = pd.read_csv('../data/Titanic-Dataset.csv')\n",
    "\n",
    "# Exibir as cinco primeiras linhas\n",
    "df.head()"
   ]
  },
  {
   "cell_type": "markdown",
   "id": "cf854abe",
   "metadata": {},
   "source": [
    "- Entendimento e Preparação dos dados"
   ]
  },
  {
   "cell_type": "code",
   "execution_count": null,
   "id": "1fb1cf28",
   "metadata": {},
   "outputs": [],
   "source": [
    "# criacao de coluna \"Title\"\n",
    "import re\n",
    "\n",
    "# Cria uma nova coluna 'Title' extraindo o título do nome\n",
    "df['Title'] = df['Name'].apply(\n",
    "    lambda x: re.search('([A-Za-z]+)\\.', x).group(1)\n",
    ")\n",
    "df.head()"
   ]
  },
  {
   "cell_type": "code",
   "execution_count": null,
   "id": "40e944d9",
   "metadata": {},
   "outputs": [],
   "source": [
    "# Verificar frequencia dos titulos\n",
    "title_counts = df['Title'].value_counts()\n",
    "print(title_counts)"
   ]
  },
  {
   "cell_type": "code",
   "execution_count": null,
   "id": "4181e993",
   "metadata": {},
   "outputs": [],
   "source": [
    "# Agrupar os títulos raros em uma única categoria \"Rare\" para simplificar as analises\n",
    "\n",
    "titulos_raros = [\n",
    "    'Dr', 'Rev', 'Mlle', 'Major', 'Col', 'Countess', 'Capt',\n",
    "    'Ms', 'Sir', 'Lady', 'Mme', 'Don', 'Jonkheer'\n",
    "]\n",
    "\n",
    "# Criar dicionário para o mapeamento\n",
    "mapeamento_titulos = {titulo: 'Rare' for titulo in titulos_raros}\n",
    "mapeamento_titulos['Mlle'] = 'Miss'\n",
    "mapeamento_titulos['Ms'] = 'Miss'\n",
    "mapeamento_titulos['Mme'] = 'Mrs'\n",
    "\n",
    "# Aplica o mapeamento\n",
    "df['Title'] = df['Title'].replace(mapeamento_titulos)\n",
    "\n",
    "print(df['Title'].value_counts())"
   ]
  },
  {
   "cell_type": "code",
   "execution_count": null,
   "id": "17310a7d",
   "metadata": {},
   "outputs": [],
   "source": [
    "# Valores ausentes por coluna\n",
    "valores_ausentes = df.isnull().sum()\n",
    "\n",
    "# Calcular a porcentagem de valores ausentes\n",
    "porcentagem_ausentes = (valores_ausentes / len(df)) * 100\n",
    "\n",
    "# Criar DataFrame para visualizar a contagem e a porcentagem\n",
    "df_valores_ausentes = pd.DataFrame({\n",
    "    'Contagem': valores_ausentes,\n",
    "    'Porcentagem': porcentagem_ausentes\n",
    "})\n",
    "\n",
    "# Filtrar apenas as colunas com valores ausentes e ordenamos\n",
    "print(df_valores_ausentes[df_valores_ausentes['Contagem'] > 0].sort_values(by='Porcentagem', ascending=False))"
   ]
  },
  {
   "cell_type": "markdown",
   "id": "a3e417c0",
   "metadata": {},
   "source": [
    "- Analise dos dados acima: \n",
    "\n",
    "- Cabin: : Quase 80% dos dados estão faltando, inferir sobre estas informações é inviavel. Então melhor descartar esta coluna.\n",
    "- Age:: A idade é uma variavel crucial, 20% faltante é uma quantidade consideravel.\n",
    "- Embarked: Menos de 1% de dados ausentes, dois valores estão faltando. Posso preencher com o valor mais frequente tranquilamente."
   ]
  },
  {
   "cell_type": "code",
   "execution_count": null,
   "id": "9b03241d",
   "metadata": {},
   "outputs": [],
   "source": [
    "# Preencher idades faltantes\n",
    "\n",
    "df['Age'] = df['Age'].fillna(\n",
    "    df.groupby('Title')['Age'].transform('median')\n",
    ")\n",
    "print(df['Age'].isnull().sum())"
   ]
  },
  {
   "cell_type": "code",
   "execution_count": null,
   "id": "41feeb8e",
   "metadata": {},
   "outputs": [],
   "source": [
    "# Preencher o Porto de Embarque\n",
    "\n",
    "porto_mais_comum = df['Embarked'].mode()[0]\n",
    "\n",
    "df['Embarked'] = df['Embarked'].fillna(porto_mais_comum)\n",
    "\n",
    "print(df['Embarked'].isnull().sum())"
   ]
  },
  {
   "cell_type": "markdown",
   "id": "2c0a7074",
   "metadata": {},
   "source": [
    " - Respondendo a primeira pergunta:\n",
    "\n",
    " O que a classe social (representada por Pclass) diz sobre as prioridades e o valor de uma vida humana naquela época?"
   ]
  },
  {
   "cell_type": "code",
   "execution_count": null,
   "id": "e41fef7d",
   "metadata": {},
   "outputs": [],
   "source": [
    "# Cria uma tabela cruzada para ver a contagem de sobreviventes por classe\n",
    "tabela_pclass = pd.crosstab(df['Pclass'], df['Survived'])\n",
    "\n",
    "# Adiciona os totais para cada linha e coluna\n",
    "tabela_pclass['Total'] = tabela_pclass.sum(axis=1)\n",
    "\n",
    "# Calcula a porcentagem de sobreviventes por classe\n",
    "tabela_pclass['Sobrevivência %'] = round((tabela_pclass[1] / tabela_pclass['Total']) * 100, 2)\n",
    "\n",
    "# Altera os nomes das colunas para melhor compreensão\n",
    "tabela_pclass = tabela_pclass.rename(columns={0: 'Não Sobreviveu', 1: 'Sobreviveu'})\n",
    "\n",
    "print(tabela_pclass)"
   ]
  },
  {
   "cell_type": "markdown",
   "id": "ba859a82",
   "metadata": {},
   "source": [
    "Análise dos Dados:\n",
    "\n",
    "A tabela mostra uma correlação inegável entre classe social e sobrevivência.\n",
    "\n",
    "1ª Classe: 62.96% de sobrevivência.\n",
    "\n",
    "2ª Classe: 47.28% de sobrevivência.\n",
    "\n",
    "3ª Classe: Apenas 24.24% de sobrevivência."
   ]
  },
  {
   "cell_type": "markdown",
   "id": "c3a4182b",
   "metadata": {},
   "source": [
    "Reflexão Filosófica:\n",
    "\n",
    "Os dados revelam uma hierarquia de valor de vida. O acesso a uma cabine na 1ª classe não era apenas uma questão de conforto; era, literalmente, a diferença entre a vida e a morte. O acesso aos botes salva-vidas, a prioridade no resgate e até a localização das cabines (mais altas no navio) estavam todos correlacionados com a classe social.\n",
    "\n",
    "O naufrágio do Titanic, que deveria ser um evento de destino cego, foi, na verdade, um reflexo brutal das desigualdades sociais. Os dados, frios e objetivos, confirmam que o valor de uma vida era, em grande parte, determinado pelo status social."
   ]
  },
  {
   "cell_type": "markdown",
   "id": "554f9f41",
   "metadata": {},
   "source": [
    "- Respondendo a segunda Pergunta:\n",
    "\n",
    "A idade e o gênero determinavam o direito à vida? Qual a relação entre a lógica dos dados e a ética do \"mulheres e crianças primeiro\"?"
   ]
  },
  {
   "cell_type": "code",
   "execution_count": null,
   "id": "f5c0394b",
   "metadata": {},
   "outputs": [],
   "source": [
    "# Cria uma tabela cruzada para ver a contagem de sobreviventes por sexo\n",
    "tabela_sexo = pd.crosstab(df['Sex'], df['Survived'])\n",
    "\n",
    "# Adiciona os totais para cada linha e coluna\n",
    "tabela_sexo['Total'] = tabela_sexo.sum(axis=1)\n",
    "\n",
    "# Calcula a porcentagem de sobreviventes por sexo\n",
    "tabela_sexo['Sobrevivência %'] = round((tabela_sexo[1] / tabela_sexo['Total']) * 100, 2)\n",
    "\n",
    "# Altera os nomes das colunas para melhor compreensão\n",
    "tabela_sexo = tabela_sexo.rename(columns={0: 'Não Sobreviveu', 1: 'Sobreviveu'})\n",
    "\n",
    "print(tabela_sexo)"
   ]
  },
  {
   "cell_type": "markdown",
   "id": "59dbb925",
   "metadata": {},
   "source": [
    "Análise dos Dados:\n",
    "\n",
    "Mulheres: 74.2% de sobrevivência.\n",
    "\n",
    "Homens: Apenas 18.89% de sobrevivência."
   ]
  },
  {
   "cell_type": "markdown",
   "id": "5ae68a8c",
   "metadata": {},
   "source": [
    "Reflexão Filosófica:\n",
    "\n",
    "O dado é brutalmente direto: o gênero era um fator muito mais decisivo para a sobrevivência do que a classe social. A ordem de \"mulheres e crianças primeiro\" não foi apenas um ideal ético, mas uma política de resgate que se manifestou de forma inegável nos dados."
   ]
  },
  {
   "cell_type": "code",
   "execution_count": null,
   "id": "652f461e",
   "metadata": {},
   "outputs": [],
   "source": [
    "# Cria um DataFrame apenas com passageiros do sexo masculino, fazendo uma cópia\n",
    "homens_df = df[df['Sex'] == 'male'].copy()"
   ]
  },
  {
   "cell_type": "code",
   "execution_count": null,
   "id": "f341dc47",
   "metadata": {},
   "outputs": [],
   "source": [
    "# Cria um DataFrame apenas com passageiros do sexo masculino\n",
    "homens_df = df[df['Sex'] == 'male']\n",
    "\n",
    "# Categoriza os homens em crianças (até 16 anos) e adultos\n",
    "homens_df['Categoria'] = homens_df['Age'].apply(\n",
    "    lambda age: 'Crianca' if age <= 16 else 'Adulto'\n",
    ")\n",
    "\n",
    "# Cria uma tabela cruzada para ver a sobrevivência de homens (crianças vs. adultos)\n",
    "tabela_criancas_adultos = pd.crosstab(homens_df['Categoria'], homens_df['Survived'])\n",
    "\n",
    "# Adiciona a porcentagem de sobrevivência\n",
    "tabela_criancas_adultos['Sobrevivência %'] = round((tabela_criancas_adultos[1] / tabela_criancas_adultos.sum(axis=1)) * 100, 2)\n",
    "\n",
    "# Altera os nomes das colunas\n",
    "tabela_criancas_adultos = tabela_criancas_adultos.rename(columns={0: 'Não Sobreviveu', 1: 'Sobreviveu'})\n",
    "\n",
    "print(tabela_criancas_adultos)"
   ]
  },
  {
   "cell_type": "markdown",
   "id": "92fb045a",
   "metadata": {},
   "source": [
    "Análise dos Dados:\n",
    "\n",
    "Homens Adultos: Apenas 16.28% de sobrevivência.\n",
    "\n",
    "Meninos (Criança): 43.64% de sobrevivência."
   ]
  },
  {
   "cell_type": "markdown",
   "id": "0b1aa484",
   "metadata": {},
   "source": [
    "Reflexão Filosófica:\n",
    "\n",
    "Os números falam por si. A política de \"mulheres e crianças primeiro\" foi de fato aplicada. A sobrevivência dos meninos foi significativamente maior que a dos homens adultos. O que a ética prescrevia, a lógica dos dados confirmou: em uma situação de escassez (de botes salva-vidas), vidas foram priorizadas, e essa prioridade foi baseada na vulnerabilidade percebida"
   ]
  },
  {
   "cell_type": "markdown",
   "id": "1a0ccc5d",
   "metadata": {},
   "source": [
    "Em suma, a análise mostra que a idade e o gênero foram, de fato, os fatores determinantes para o direito à vida. O que parecia uma ordem ética e humanitária se revela uma regra estatística, com o valor de uma vida sendo quantificado pela sua idade e sexo."
   ]
  },
  {
   "cell_type": "markdown",
   "id": "c93cd4a5",
   "metadata": {},
   "source": [
    "- Respondendo a Terceira Pergunta:\n",
    "\n",
    "O que os dados faltantes (missing values) nos dizem sobre o que não sabemos? Isso pode representar a incerteza e o caos de um evento como o naufrágio."
   ]
  },
  {
   "cell_type": "code",
   "execution_count": null,
   "id": "bea35763",
   "metadata": {},
   "outputs": [],
   "source": [
    "# Contar o número de valores ausentes por coluna\n",
    "valores_ausentes_finais = df.isnull().sum()\n",
    "\n",
    "# Filtrar apenas as colunas com valores ausentes\n",
    "df_valores_ausentes_finais = valores_ausentes_finais[valores_ausentes_finais > 0]\n",
    "\n",
    "# Exibir o resultado\n",
    "print(\"Valores ausentes após a limpeza:\")\n",
    "print(df_valores_ausentes_finais)\n",
    "\n",
    "if df_valores_ausentes_finais.empty:\n",
    "    print(\"\\nO seu DataFrame está 100% limpo!\")"
   ]
  },
  {
   "cell_type": "code",
   "execution_count": null,
   "id": "38e5dadf",
   "metadata": {},
   "outputs": [],
   "source": [
    "# Descarta a coluna 'Cabin'\n",
    "df = df.drop('Cabin', axis=1, errors='ignore')\n",
    "\n",
    "# Verificamos a nova contagem de valores ausentes para confirmar a remoção\n",
    "print(df.isnull().sum())"
   ]
  },
  {
   "cell_type": "markdown",
   "id": "b024d789",
   "metadata": {},
   "source": [
    "Os valores ausentes na coluna Cabin mostra a incerteza e a falta de informação, levando à decisão pragmática de descartar a coluna. Já os poucos valores ausentes em Age e Embarked puderam ser preenchidos de forma inteligente, preservando o máximo de informação"
   ]
  }
 ],
 "metadata": {
  "kernelspec": {
   "display_name": "Python 3",
   "language": "python",
   "name": "python3"
  },
  "language_info": {
   "codemirror_mode": {
    "name": "ipython",
    "version": 3
   },
   "file_extension": ".py",
   "mimetype": "text/x-python",
   "name": "python",
   "nbconvert_exporter": "python",
   "pygments_lexer": "ipython3",
   "version": "3.11.9"
  }
 },
 "nbformat": 4,
 "nbformat_minor": 5
}
